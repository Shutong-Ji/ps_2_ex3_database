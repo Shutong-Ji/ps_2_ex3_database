{
 "cells": [
  {
   "cell_type": "markdown",
   "metadata": {},
   "source": [
    "# Warm up\n",
    "Let's start with some warm up exercises to get you familiar with the database and do some SQL querying.\n",
    "Make sure to have downloaded the NBA dataset form Kaggle as described in the README."
   ]
  },
  {
   "cell_type": "code",
   "execution_count": null,
   "metadata": {},
   "outputs": [],
   "source": [
    "import sqlite3 as sql\n",
    "import pandas as pd\n",
    "from pathlib import Path\n",
    "import pandas as pd\n",
    "import matplotlib.pyplot as plt\n",
    "import seaborn as sns\n",
    "\n",
    "\n",
    "## TODO: Use pathlib to get the path to the data directory. Path(__file__) won't work in a Jupyter notebook.\n",
    "DATA_PATH = Path.cwd() / 'data/nba.sqlite'"
   ]
  },
  {
   "cell_type": "markdown",
   "metadata": {},
   "source": [
    "## Create a SQLite connection and run some SQL queries"
   ]
  },
  {
   "cell_type": "code",
   "execution_count": null,
   "metadata": {},
   "outputs": [],
   "source": [
    "con = sql.connect(DATA_PATH)  # connect to the database\n",
    "query = 'SELECT * FROM game LIMIT 10'  # write a query that selects the first 10 rows from the game table\n",
    "top_10_game = pd.read_sql(query, con)  # read the query into a pandas dataframe\n",
    "top_10_game.head() # print the dataframe"
   ]
  },
  {
   "cell_type": "code",
   "execution_count": null,
   "metadata": {},
   "outputs": [],
   "source": [
    "# let's look at the schema of the database\n",
    "# TODO: sqlite_master is the name of the table you want to inspeact: Replace TABLE_NAME with the name of the table you want to inspect\n",
    "query = \"\"\"\n",
    "    SELECT *\n",
    "    FROM sqlite_master\n",
    "\"\"\"\n",
    "\n",
    "pd.read_sql(query, con).sort_values('name')"
   ]
  },
  {
   "cell_type": "code",
   "execution_count": null,
   "metadata": {},
   "outputs": [],
   "source": [
    "# let's see all the tables we have in the database\n",
    "# TODO: Filter for tables only\n",
    "query = \"\"\"\n",
    "    SELECT name\n",
    "    FROM sqlite_master\n",
    "    WHERE type = 'table'\n",
    "\"\"\"\n",
    "pd.read_sql(query, con)"
   ]
  },
  {
   "cell_type": "code",
   "execution_count": null,
   "metadata": {},
   "outputs": [],
   "source": [
    "# let's have a look at the columns in the game table\n",
    "query = \"\"\"\n",
    "    PRAGMA table_info(draft_combine_stats)\n",
    "\"\"\"\n",
    "pd.read_sql(query, con)"
   ]
  },
  {
   "cell_type": "code",
   "execution_count": null,
   "metadata": {},
   "outputs": [],
   "source": [
    "# let's find the earliest recorded game\n",
    "query = \"\"\"\n",
    "    SELECT game_date\n",
    "    FROM game\n",
    "    ORDER BY game_date\n",
    "    LIMIT 1\n",
    "\"\"\"\n",
    "\n",
    "print(pd.read_sql(query, con))\n",
    "\n",
    "# let's find the latest recorded game\n",
    "query = \"\"\"\n",
    "    SELECT game_date\n",
    "    FROM game\n",
    "    ORDER BY game_date DESC\n",
    "    LIMIT 1\n",
    "\"\"\"\n",
    "\n",
    "print(pd.read_sql(query, con))\n"
   ]
  },
  {
   "cell_type": "code",
   "execution_count": null,
   "metadata": {},
   "outputs": [],
   "source": [
    "# TODO: Find four interesting facts about the data and write a query to find the answer"
   ]
  },
  {
   "cell_type": "code",
   "execution_count": null,
   "metadata": {},
   "outputs": [],
   "source": [
    "#sight 1\n",
    "query = \"\"\"\n",
    "    SELECT height_w_shoes AS height, max_vertical_leap AS vertical_leap\n",
    "    FROM draft_combine_stats\n",
    "    WHERE height_w_shoes IS NOT NULL AND max_vertical_leap IS NOT NULL\n",
    "\"\"\"\n",
    "df1 = pd.read_sql(query, con)\n",
    "df1\n"
   ]
  },
  {
   "cell_type": "markdown",
   "metadata": {},
   "source": [
    "To see if taller players generally have a lower or higher vertical leap, we can analyze the height_w_shoes and max_vertical_leap columns. This insight could reveal if taller players tend to have lower verticals or if there's no significant correlation."
   ]
  },
  {
   "cell_type": "code",
   "execution_count": null,
   "metadata": {},
   "outputs": [],
   "source": [
    "# Assuming df is the DataFrame resulting from the query\n",
    "plt.figure(figsize=(10, 6))\n",
    "sns.scatterplot(data=df1, x='height', y='vertical_leap')\n",
    "plt.title('Correlation between Height and Vertical Leap')\n",
    "plt.xlabel('Height')\n",
    "plt.ylabel('Max Vertical Leap')\n",
    "plt.grid(True)\n",
    "plt.show()"
   ]
  },
  {
   "cell_type": "code",
   "execution_count": null,
   "metadata": {},
   "outputs": [],
   "source": [
    "#sight 2\n",
    "query = \"\"\"\n",
    "    SELECT position, player_name, three_quarter_sprint\n",
    "    FROM draft_combine_stats\n",
    "    WHERE three_quarter_sprint IS NOT NULL\n",
    "    ORDER BY three_quarter_sprint ASC\n",
    "    LIMIT 10\n",
    "\"\"\"\n",
    "df2 = pd.read_sql(query, con)\n",
    "df2\n"
   ]
  },
  {
   "cell_type": "markdown",
   "metadata": {},
   "source": [
    "Examining the three_quarter_sprint column can help identify the fastest sprint times by player position. This insight would highlight which positions tend to have the fastest sprint speeds and which individual players stand out."
   ]
  },
  {
   "cell_type": "code",
   "execution_count": null,
   "metadata": {},
   "outputs": [],
   "source": [
    "#sight 3\n",
    "query = \"\"\"\n",
    "\n",
    "    SELECT \n",
    "        AVG(CAST(spot_nba_corner_left AS FLOAT)) AS nba_corner_left_accuracy,\n",
    "        AVG(CAST(spot_nba_top_key AS FLOAT)) AS nba_top_key_accuracy,\n",
    "        AVG(CAST(spot_college_top_key AS FLOAT)) AS college_top_key_accuracy,\n",
    "        AVG(CAST(off_drib_college_top_key AS FLOAT)) AS off_drib_college_accuracy\n",
    "    FROM draft_combine_stats\n",
    "    WHERE \n",
    "        spot_nba_corner_left IS NOT NULL \n",
    "        AND spot_nba_top_key IS NOT NULL\n",
    "        AND spot_college_top_key IS NOT NULL\n",
    "        AND off_drib_college_top_key IS NOT NULL\n",
    "\"\"\"\n",
    "df3 = pd.read_sql(query, con)\n",
    "df3\n"
   ]
  },
  {
   "cell_type": "code",
   "execution_count": null,
   "metadata": {},
   "outputs": [],
   "source": [
    "# Reshape the DataFrame for easier plotting (if necessary)\n",
    "accuracy_df = pd.DataFrame({\n",
    "    'Shot Type': ['NBA Corner Left', 'NBA Top Key', 'College Top Key', 'Off-Dribble College'],\n",
    "    'Accuracy': [df3['nba_corner_left_accuracy'].iloc[0],\n",
    "                 df3['nba_top_key_accuracy'].iloc[0],\n",
    "                 df3['college_top_key_accuracy'].iloc[0],\n",
    "                 df3['off_drib_college_accuracy'].iloc[0]]\n",
    "})\n",
    "\n",
    "plt.figure(figsize=(10, 6))\n",
    "sns.barplot(data=accuracy_df, x='Shot Type', y='Accuracy', palette='viridis')\n",
    "plt.title('Shooting Accuracy by Shot Type')\n",
    "plt.xlabel('Shot Type')\n",
    "plt.ylabel('Average Shooting Accuracy (%)')\n",
    "plt.ylim(0, 100)\n",
    "plt.show()\n"
   ]
  },
  {
   "cell_type": "code",
   "execution_count": null,
   "metadata": {},
   "outputs": [],
   "source": []
  }
 ],
 "metadata": {
  "kernelspec": {
   "display_name": "Python 3.10.10 64-bit",
   "language": "python",
   "name": "python3"
  },
  "language_info": {
   "codemirror_mode": {
    "name": "ipython",
    "version": 3
   },
   "file_extension": ".py",
   "mimetype": "text/x-python",
   "name": "python",
   "nbconvert_exporter": "python",
   "pygments_lexer": "ipython3",
   "version": "3.10.10"
  },
  "vscode": {
   "interpreter": {
    "hash": "bd385fe162c5ca0c84973b7dd5c518456272446b2b64e67c2a69f949ca7a1754"
   }
  }
 },
 "nbformat": 4,
 "nbformat_minor": 4
}
